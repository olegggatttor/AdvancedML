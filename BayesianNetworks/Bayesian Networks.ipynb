{
 "cells": [
  {
   "cell_type": "code",
   "execution_count": 1,
   "id": "ffbbb06e",
   "metadata": {},
   "outputs": [],
   "source": [
    "import numpy as np\n",
    "import pandas as pd\n",
    "from pgmpy.readwrite import BIFReader\n",
    "import matplotlib.pyplot as plt\n",
    "import itertools as it\n",
    "from pgmpy.inference import VariableElimination\n",
    "from tqdm import tqdm\n",
    "from collections import defaultdict"
   ]
  },
  {
   "cell_type": "code",
   "execution_count": 2,
   "id": "5408642a",
   "metadata": {},
   "outputs": [],
   "source": [
    "reader = BIFReader(\"data/cancer.bif\")"
   ]
  },
  {
   "cell_type": "code",
   "execution_count": 3,
   "id": "26f6e48e",
   "metadata": {},
   "outputs": [
    {
     "data": {
      "text/plain": [
       "{'Pollution': ['low', 'high'],\n",
       " 'Smoker': ['True', 'False'],\n",
       " 'Cancer': ['True', 'False'],\n",
       " 'Xray': ['positive', 'negative'],\n",
       " 'Dyspnoea': ['True', 'False']}"
      ]
     },
     "execution_count": 3,
     "metadata": {},
     "output_type": "execute_result"
    }
   ],
   "source": [
    "reader.get_states()"
   ]
  },
  {
   "cell_type": "code",
   "execution_count": 4,
   "id": "f132d005",
   "metadata": {},
   "outputs": [],
   "source": [
    "def direct_query(reader, evidence, prec=5):\n",
    "    data = reader.get_states().copy()\n",
    "    data = {k:list(filter(lambda x: k not in evidence.keys() or (x == evidence[k]), v)) for k, v in data.items()}\n",
    "    all_names = sorted(data)\n",
    "    combinations = it.product(*(data[name] for name in all_names))\n",
    "    df = pd.DataFrame(combinations, columns=all_names)\n",
    "    \n",
    "#     print(df)\n",
    "    \n",
    "    prob = 0.0\n",
    "    \n",
    "    for i, row in df.iterrows():\n",
    "        cur = 1.0\n",
    "        for node in data.keys():\n",
    "            cpd = reader.get_model().get_cpds(node)\n",
    "            if node in reader.get_model().get_roots():\n",
    "                cur *= eval('cpd.get_value({}=\"{}\")'.format(node, row[node]))\n",
    "            else:\n",
    "                names_reduce = cpd.scope()\n",
    "                cur *= eval(\"cpd.get_value({})\".format(', '.join([x + '=\"' + row[x] + '\"' for x in names_reduce])))\n",
    "        prob += cur\n",
    "    return round(prob, prec)"
   ]
  },
  {
   "cell_type": "code",
   "execution_count": 5,
   "id": "24b57dd6",
   "metadata": {},
   "outputs": [],
   "source": [
    "direct_ans = direct_query(reader, {\n",
    "         'Smoker': 'True',\n",
    "         'Xray': 'negative'\n",
    "        })"
   ]
  },
  {
   "cell_type": "code",
   "execution_count": 6,
   "id": "485d00a1",
   "metadata": {},
   "outputs": [
    {
     "data": {
      "text/plain": [
       "0.23328"
      ]
     },
     "execution_count": 6,
     "metadata": {},
     "output_type": "execute_result"
    }
   ],
   "source": [
    "direct_ans"
   ]
  },
  {
   "cell_type": "code",
   "execution_count": 7,
   "id": "1ccbfc53",
   "metadata": {},
   "outputs": [],
   "source": [
    "from toposort import toposort\n",
    "\n",
    "def traverse(reader, order):\n",
    "    evidence = {}\n",
    "    \n",
    "    \n",
    "    for group in order:\n",
    "        for node in group:\n",
    "            cpd = reader.get_model().get_cpds(node).copy()\n",
    "            evidence_set = cpd.variables.copy()\n",
    "            evidence_set.remove(node)\n",
    "            evidence_set = list(map(lambda x: (x, evidence[x]), evidence_set))\n",
    "            cpd.reduce(evidence_set)\n",
    "            values = reader.get_states()[node]\n",
    "            value = np.random.choice(a=values, p=cpd.values)\n",
    "            evidence[node] = value\n",
    "            \n",
    "    return evidence"
   ]
  },
  {
   "cell_type": "code",
   "execution_count": 8,
   "id": "e02efdfd",
   "metadata": {},
   "outputs": [],
   "source": [
    "def predict(reader, params, order, times=100):\n",
    "    counter = 0.0\n",
    "    \n",
    "    for i in range(times):\n",
    "        q = traverse(reader, order)\n",
    "        counter += float(all(v == q[k] for k, v in params.items()))\n",
    "    return counter / times"
   ]
  },
  {
   "cell_type": "code",
   "execution_count": 10,
   "id": "f17d1339",
   "metadata": {},
   "outputs": [],
   "source": [
    "graph = defaultdict(set)\n",
    "for edge in reader.get_edges():\n",
    "    graph[edge[0]].add(edge[1])    \n",
    "order = list(reversed(list(toposort(graph))))"
   ]
  },
  {
   "cell_type": "code",
   "execution_count": 14,
   "id": "5a9f1023",
   "metadata": {},
   "outputs": [
    {
     "data": {
      "text/plain": [
       "0.2525"
      ]
     },
     "execution_count": 14,
     "metadata": {},
     "output_type": "execute_result"
    }
   ],
   "source": [
    "predict(reader, {\n",
    "         'Smoker': 'True',\n",
    "         'Xray': 'negative'\n",
    "        }, order, 400)"
   ]
  },
  {
   "cell_type": "code",
   "execution_count": 122,
   "id": "b9178b3f",
   "metadata": {},
   "outputs": [
    {
     "name": "stderr",
     "output_type": "stream",
     "text": [
      "100%|████████████████████████████████████████████████████████████████████████████████| 100/100 [50:13<00:00, 30.14s/it]\n"
     ]
    }
   ],
   "source": [
    "xs = []\n",
    "ys = []\n",
    "    \n",
    "for i in tqdm(range(1, 1000, 10)):\n",
    "    xs.append(i)\n",
    "    ys.append(predict(reader, {\n",
    "         'Smoker': 'True',\n",
    "         'Xray': 'negative'\n",
    "        }, order, i))"
   ]
  },
  {
   "cell_type": "code",
   "execution_count": 123,
   "id": "7f9ee3b8",
   "metadata": {},
   "outputs": [
    {
     "data": {
      "image/png": "[encoded data removed]",
      "text/plain": [
       "<Figure size 432x288 with 1 Axes>"
      ]
     },
     "metadata": {
      "needs_background": "light"
     },
     "output_type": "display_data"
    }
   ],
   "source": [
    "plt.plot(xs, ys, label='Using BN disribution')\n",
    "plt.plot(xs, [direct_ans for _ in range(len(xs))], label='Using direct query')\n",
    "plt.legend()\n",
    "plt.show()"
   ]
  },
  {
   "cell_type": "code",
   "execution_count": 124,
   "id": "c0d484dd",
   "metadata": {},
   "outputs": [
    {
     "data": {
      "image/png": "[encoded data removed]",
      "text/plain": [
       "<Figure size 432x288 with 1 Axes>"
      ]
     },
     "metadata": {
      "needs_background": "light"
     },
     "output_type": "display_data"
    }
   ],
   "source": [
    "plt.plot(xs, abs(np.array(ys) - np.array([direct_ans for _ in range(len(xs))])), label='Loss diff')\n",
    "plt.legend()\n",
    "plt.show()"
   ]
  },
  {
   "cell_type": "code",
   "execution_count": null,
   "id": "1c74f466",
   "metadata": {},
   "outputs": [],
   "source": []
  }
 ],
 "metadata": {
  "kernelspec": {
   "display_name": "Python 3",
   "language": "python",
   "name": "python3"
  },
  "language_info": {
   "codemirror_mode": {
    "name": "ipython",
    "version": 3
   },
   "file_extension": ".py",
   "mimetype": "text/x-python",
   "name": "python",
   "nbconvert_exporter": "python",
   "pygments_lexer": "ipython3",
   "version": "3.8.9"
  }
 },
 "nbformat": 4,
 "nbformat_minor": 5
}
